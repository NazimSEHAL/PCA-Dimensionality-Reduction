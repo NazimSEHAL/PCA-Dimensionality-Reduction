{
 "cells": [
  {
   "cell_type": "markdown",
   "metadata": {},
   "source": [
    "# Exercise #1. PCA \n",
    "\n",
    "This first example allows you to go through PCA step by step.\n",
    "It is applied on the data of student marks presented during the course.\n",
    "\n",
    "---\n",
    "\n",
    "Reminder of PCA steps :\n",
    "\n",
    "- Standardize the data X\n",
    "- Compute the covariance matrix of the features from the dataset : X.T * X\n",
    "- Perform eigendecompositon on the covariance matrix.\n",
    "- Order the eigenvectors in decreasing order based on the magnitude of their corresponding eigenvalues.\n",
    "- Determine q, the number of top principal components to select.\n",
    "- Construct the projection matrix from the chosen number of top principal components.\n",
    "- Compute the new q-dimensional feature space.\n"
   ]
  },
  {
   "cell_type": "markdown",
   "metadata": {},
   "source": [
    "Import needed packages"
   ]
  },
  {
   "cell_type": "code",
   "execution_count": 13,
   "metadata": {},
   "outputs": [],
   "source": [
    "import pandas as pd\n",
    "import numpy as np\n",
    "from sklearn import preprocessing\n",
    "from sklearn.preprocessing import normalize \n",
    "import matplotlib as mpl\n",
    "import matplotlib.pyplot as plt\n",
    "import seaborn as sns"
   ]
  },
  {
   "cell_type": "markdown",
   "metadata": {},
   "source": [
    "Laoding the data"
   ]
  },
  {
   "cell_type": "code",
   "execution_count": 14,
   "metadata": {},
   "outputs": [
    {
     "name": "stdout",
     "output_type": "stream",
     "text": [
      "[['jean']\n",
      " ['alan']\n",
      " ['anni']\n",
      " ['moni']\n",
      " ['didi']\n",
      " ['andr']\n",
      " ['pier']\n",
      " ['brig']\n",
      " ['evel']]\n",
      "[[ 6.   6.   5.   5.5]\n",
      " [ 8.   8.   8.   8. ]\n",
      " [ 6.   7.  11.   9.5]\n",
      " [14.5 14.5 15.5 15. ]\n",
      " [14.  14.  12.  12.5]\n",
      " [11.  10.   5.5  7. ]\n",
      " [ 5.5  7.  14.  11.5]\n",
      " [13.  12.5  8.5  9.5]\n",
      " [ 9.   9.5 12.5 12. ]]\n"
     ]
    }
   ],
   "source": [
    "df = pd.read_csv(\"notes.csv\")\n",
    "X = df.iloc[:, 1:].values     # The Original matrix. Each row is an 4 dim figures.\n",
    "names = df.iloc[:, :1].values # The name of the student.\n",
    "print(names)\n",
    "print(X)"
   ]
  },
  {
   "cell_type": "markdown",
   "metadata": {},
   "source": [
    "## Standardisation of X\n",
    "Standardization refers to shifting the distribution of each attribute to have a mean of zero and a standard deviation of one (unit variance). It is useful to standardize attributes for a model. Standardization of datasets is a common requirement for many machine learning estimators implemented in scikit-learn; they might behave badly if the individual features do not more or less look like standard normally distributed data"
   ]
  },
  {
   "cell_type": "code",
   "execution_count": 15,
   "metadata": {},
   "outputs": [
    {
     "name": "stdout",
     "output_type": "stream",
     "text": [
      "[[-1.08650256 -1.28173989 -1.50366322 -1.61940264]\n",
      " [-0.4938648  -0.61300603 -0.63985669 -0.73070607]\n",
      " [-1.08650256 -0.94737296  0.22394984 -0.19748813]\n",
      " [ 1.43220792  1.560379    1.51965963  1.75764432]\n",
      " [ 1.28404848  1.39319553  0.51188535  0.86894776]\n",
      " [ 0.39509184  0.05572782 -1.35969546 -1.0861847 ]\n",
      " [-1.234662   -0.94737296  1.08775637  0.51346913]\n",
      " [ 0.9877296   0.89164514 -0.49588893 -0.19748813]\n",
      " [-0.19754592 -0.11145564  0.65585311  0.69120844]]\n"
     ]
    }
   ],
   "source": [
    "std_scale = preprocessing.StandardScaler().fit(X)\n",
    "Xn = std_scale.transform(X)\n",
    "print(Xn)"
   ]
  },
  {
   "cell_type": "markdown",
   "metadata": {},
   "source": [
    "Compute and print the mean and the standard deviation of the transformed data (Xn) using \"np.mean\" and \"np.std\". What do you notice?"
   ]
  },
  {
   "cell_type": "code",
   "execution_count": 17,
   "metadata": {},
   "outputs": [
    {
     "name": "stdout",
     "output_type": "stream",
     "text": [
      "La moyenne suivant chaque variable est :  [ 1.81953218e-16 -2.20502629e-16  2.34380416e-16  2.46716228e-17]\n",
      "L' ecart type suivant chaque variables est  :  [1. 1. 1. 1.]\n"
     ]
    }
   ],
   "source": [
    "mean = np.mean(Xn)\n",
    "std = np.std(Xn)\n",
    "print(\"La moyenne suivant chaque variable est : \", np.mean(Xn, axis=0)) # mean value for each feature\n",
    "print(\"L' ecart type suivant chaque variables est  : \", np.std(Xn, axis=0)) # standard deviation for each feature\n",
    "# ... \n",
    "# ..."
   ]
  },
  {
   "cell_type": "markdown",
   "metadata": {},
   "source": [
    " # Remarques\n",
    "\n",
    "We notice that the average (mean) following each variable tends towards 0 that implies that the data is centralized.\n",
    " \n",
    " The standard deviation following each variable is 1, which implies that the data are well reduced.\n",
    " \n",
    " The data is reduced and centralized and therefore it is well standardized and homogeneous."
   ]
  },
  {
   "cell_type": "markdown",
   "metadata": {},
   "source": [
    "## Computing the covariance matrix\n",
    "\n",
    "We could use Numpy :\n",
    "- cov_mat = np.cov(...)\n",
    "\n",
    "or directly as follows...\n",
    "- cov_mat = Xn.T.dot(Xn) / (Xn.shape[0]-1)\n",
    "\n",
    "Check both implementations and compare the results."
   ]
  },
  {
   "cell_type": "code",
   "execution_count": 8,
   "metadata": {},
   "outputs": [
    {
     "name": "stdout",
     "output_type": "stream",
     "text": [
      "Covariance matrix shape:  (4, 4)\n",
      "Covariance matrix \n",
      "[[1.125      1.10535269 0.25507342 0.57166198]\n",
      " [1.10535269 1.125      0.44627989 0.73297183]\n",
      " [0.25507342 0.44627989 1.125      1.07010647]\n",
      " [0.57166198 0.73297183 1.07010647 1.125     ]]\n"
     ]
    }
   ],
   "source": [
    "# COMPLETE THE CODE HERE\n",
    "cov_mat = Xn.T.dot(Xn) / (Xn.shape[0]-1)\n",
    "cov_mat_other = np.cov(Xn)\n",
    "#print('Covariance matrix shape: ',cov_mat.shape)\n",
    "#print('Covariance matrix \\n%s' %cov_mat) \n",
    "print('Covariance matrix shape: ',cov_mat.shape)\n",
    "print('Covariance matrix \\n%s' %cov_mat) "
   ]
  },
  {
   "cell_type": "markdown",
   "metadata": {},
   "source": [
    "# Remarque\n",
    "\n",
    "We notice that the 2 formulas generate different covariance matrices.\n",
    "\n",
    "\n",
    "Xn.T.dot(Xn) / (Xn.shape[0]-1) calculates the matrix product between Xn^T and Xn \n",
    "\n",
    "mais np.cov(Xn) calculates the matrix product between Xn and Xn^T."
   ]
  },
  {
   "cell_type": "markdown",
   "metadata": {},
   "source": [
    "## Eigen decomposition of the covariance matrix\n",
    "\n",
    "Here, the function \"eig\" from the linear algebra package of Numpy can be used (\"np.linalg\")\n"
   ]
  },
  {
   "cell_type": "code",
   "execution_count": 9,
   "metadata": {},
   "outputs": [
    {
     "name": "stdout",
     "output_type": "stream",
     "text": [
      "Eigenvectors shape:  (4, 4)\n",
      "[[-0.47845402 -0.55194891  0.65222562  0.20257316]\n",
      " [-0.53191716 -0.40680183 -0.59742507 -0.44120255]\n",
      " [-0.44393038  0.62123362  0.36542644 -0.53240785]\n",
      " [-0.53951061  0.37938563 -0.29008368  0.69343082]]\n",
      "Eigenvalues shape:  (4,)\n",
      "[3.23514762e+00 1.25964828e+00 1.17930919e-03 4.02478885e-03]\n"
     ]
    }
   ],
   "source": [
    "# COMPLETE THE CODE HERE\n",
    "eig_vals, eig_vecs = np.linalg.eig(cov_mat)\n",
    "print('Eigenvectors shape: ', eig_vecs.shape)\n",
    "print(eig_vecs)\n",
    "print('Eigenvalues shape: ', eig_vals.shape)\n",
    "print(eig_vals)"
   ]
  },
  {
   "cell_type": "markdown",
   "metadata": {},
   "source": [
    "## Selecting Principal Components"
   ]
  },
  {
   "cell_type": "code",
   "execution_count": 10,
   "metadata": {},
   "outputs": [
    {
     "name": "stdout",
     "output_type": "stream",
     "text": [
      "Eigenvalues in descending order (All the eigenvalues):\n",
      "3.2351476179596492\n",
      "1.2596482840056922\n",
      "0.004024788846949778\n",
      "0.0011793091877089143\n"
     ]
    }
   ],
   "source": [
    "# Make a list of (eigenvalue, eigenvector) tuples\n",
    "eig_pairs = [(np.abs(eig_vals[i]), eig_vecs[:,i]) for i in range(len(eig_vals))]\n",
    "\n",
    "# Sort the (eigenvalue, eigenvector) tuples from high to low\n",
    "eig_pairs.sort(key=lambda x: x[0], reverse=True)\n",
    "\n",
    "# Visually confirm that the list is correctly sorted by decreasing eigenvalues\n",
    "print('Eigenvalues in descending order (All the eigenvalues):')\n",
    "for tup in eig_pairs[:len(eig_vals)]:\n",
    "    print(tup[0])"
   ]
  },
  {
   "cell_type": "code",
   "execution_count": 11,
   "metadata": {},
   "outputs": [
    {
     "name": "stdout",
     "output_type": "stream",
     "text": [
      "[-0.47845402 -0.53191716 -0.44393038 -0.53951061]\n",
      "[-0.55194891 -0.40680183  0.62123362  0.37938563]\n",
      "[ 0.20257316 -0.44120255 -0.53240785  0.69343082]\n",
      "[ 0.65222562 -0.59742507  0.36542644 -0.29008368]\n"
     ]
    }
   ],
   "source": [
    "# ordonner les vecteurs propres \n",
    "for tup in eig_pairs[:len(eig_vals)]:\n",
    "    print(tup[1])"
   ]
  },
  {
   "cell_type": "markdown",
   "metadata": {},
   "source": [
    "### What do you notice? Analyze the obtained eigne values.\n",
    "\n",
    "We note that the difference between the eigenvalues ​​is large and that the last values ​​are very close to 0 which implies that the quantity of information carried by the two vectors which correspond to these last two values ​​is almost zero.\n",
    "\n",
    "the inertia is carried by the first two axes corresponding to the first two eigenvectors.\n"
   ]
  },
  {
   "cell_type": "markdown",
   "metadata": {},
   "source": [
    "## Explained Variance \n",
    "After sorting the eigenpairs, the next question is \"how many principal components are we going to choose for our new feature subspace?\" A useful measure is the so-called \"explained variance,\" which can be calculated from the eigenvalues. The explained variance tells us how much information (variance) can be attributed to each of the principal components."
   ]
  },
  {
   "cell_type": "code",
   "execution_count": 21,
   "metadata": {},
   "outputs": [
    {
     "name": "stdout",
     "output_type": "stream",
     "text": [
      "the Variance ratio is \n",
      "\n",
      "[71.8921692879922, 27.99218408901538, 0.08943975215443951, 0.026206870837975873] %%!\n"
     ]
    }
   ],
   "source": [
    "tot_ev = sum(eig_vals)\n",
    "var_exp = [(cur_ev / tot_ev)*100 for cur_ev in sorted(eig_vals, reverse=True)]\n",
    "\n",
    "print('the Variance ratio is \\n')\n",
    "print(var_exp[:10])"
   ]
  },
  {
   "cell_type": "markdown",
   "metadata": {},
   "source": [
    "# Remarque\n",
    "\n",
    "Variance ratio designe la quantité d'information portée par les vecteurs propres.\n",
    "\n",
    "We noticing high values ​​for the first two eigenvectors followed by low values ​​for the last two leads us to conclude that the information is carried mainly (more than 98%) by the first two eigenvectors.\n",
    "\n",
    "On the other hand, the last two vectors carry a small amount of information, so they can be eliminated by reducing the dimension from 4 to 2 while keeping a very high inertia."
   ]
  },
  {
   "cell_type": "markdown",
   "metadata": {},
   "source": [
    "#### Plotting the eigen values considering the explained variance ratio (%)."
   ]
  },
  {
   "cell_type": "code",
   "execution_count": 23,
   "metadata": {},
   "outputs": [
    {
     "data": {
      "image/png": "[encoded data removed]",
      "text/plain": [
       "<Figure size 432x288 with 1 Axes>"
      ]
     },
     "metadata": {
      "needs_background": "light"
     },
     "output_type": "display_data"
    }
   ],
   "source": [
    "num_eig_val = 4\n",
    "\n",
    "plt.figure(figsize=(6, 4))\n",
    "plt.bar(range(num_eig_val), var_exp[:num_eig_val], alpha=0.5, label='Individual explained variance ratio (%)')\n",
    "plt.ylabel('Explained variance ratio (%)')\n",
    "plt.xlabel('Principal components')\n",
    "plt.legend(loc='best')\n",
    "plt.tight_layout()"
   ]
  },
  {
   "cell_type": "markdown",
   "metadata": {},
   "source": [
    "Thanks to the following graph we can visualize the conclusions deduced in the previous remarks"
   ]
  },
  {
   "cell_type": "markdown",
   "metadata": {},
   "source": [
    "## Projection matrix\n",
    "\n",
    "The construction of the projection matrix that will be used to transform the initial data onto the new feature subspace. \n",
    "\n",
    "In the present case, only 1st and 2nd principal component shares the most inmportant part of information.\n",
    "\n",
    "Hence, we can drop other components. Here, we are reducing the 4-dimensional feature space to a 2-dimensional feature subspace, by choosing the “top 2” eigenvectors with the highest eigenvalues to construct our d×k-dimensional eigenvector matrix W"
   ]
  },
  {
   "cell_type": "code",
   "execution_count": 24,
   "metadata": {},
   "outputs": [
    {
     "name": "stdout",
     "output_type": "stream",
     "text": [
      "Matrix W shape :\n",
      " (4, 2)\n"
     ]
    }
   ],
   "source": [
    "W = np.hstack((eig_pairs[0][1].reshape(4,1), \n",
    "               eig_pairs[1][1].reshape(4,1)\n",
    "            ))\n",
    "print('Matrix W shape :\\n', W.shape)"
   ]
  },
  {
   "cell_type": "markdown",
   "metadata": {},
   "source": [
    "### Projection into the New Feature Space (of reduced dimension)\n",
    "In this last step, we will use the 4×2-dimensional projection matrix W to transform our original vectors (Xstd : 9x4) in the new subspace \n",
    "- Xproj = X × W"
   ]
  },
  {
   "cell_type": "code",
   "execution_count": 25,
   "metadata": {},
   "outputs": [
    {
     "name": "stdout",
     "output_type": "stream",
     "text": [
      "(9, 2)\n",
      "[[-11.24918736  -0.55971542]\n",
      " [-15.9504974    0.33494802]\n",
      " [-16.60272927   4.27842698]\n",
      " [-29.62396223   1.41801972]\n",
      " [-26.21624377  -1.22538665]\n",
      " [-16.80035721  -4.06697206]\n",
      " [-18.77431463   7.17687356]\n",
      " [-21.76762583  -3.37570954]\n",
      " [-21.38255633   3.48589016]]\n"
     ]
    }
   ],
   "source": [
    "# COMPLETE THE CODE HERE\n",
    "Xproj = X.dot(W)\n",
    "print(Xproj.shape)\n",
    "print(Xproj)"
   ]
  },
  {
   "cell_type": "code",
   "execution_count": 26,
   "metadata": {},
   "outputs": [
    {
     "data": {
      "image/png": "[encoded data removed]",
      "text/plain": [
       "<Figure size 432x288 with 1 Axes>"
      ]
     },
     "metadata": {
      "needs_background": "light"
     },
     "output_type": "display_data"
    }
   ],
   "source": [
    "plt.plot(Xproj[:,0], Xproj[:,1], 'bo')\n",
    "plt.ylabel('Axe 2')\n",
    "plt.xlabel('Axe 1')\n",
    "\n",
    "i=0;\n",
    "for x,y in zip(Xproj[:,0],Xproj[:,1]):\n",
    "        plt.annotate(names[i,0], (x,y), textcoords=\"offset points\",\n",
    "                 xytext=(0,10), # distance from text to points (x,y)\n",
    "                 ha='center') # horizontal alignment can be left, right or center\n",
    "        i = i+1\n",
    "plt.show()"
   ]
  },
  {
   "cell_type": "markdown",
   "metadata": {},
   "source": [
    "# Otherwise, we can use \"scikit-learn\"\n",
    "\n",
    "Every thing can be done in 2 lignes!"
   ]
  },
  {
   "cell_type": "code",
   "execution_count": 27,
   "metadata": {},
   "outputs": [
    {
     "name": "stdout",
     "output_type": "stream",
     "text": [
      "(9, 2)\n"
     ]
    }
   ],
   "source": [
    "from sklearn.decomposition import PCA\n",
    "\n",
    "pca = PCA(n_components=2)\n",
    "Xproj2 = pca.fit(Xn).transform(Xn)\n",
    "\n",
    "print(Xproj2.shape)"
   ]
  },
  {
   "cell_type": "markdown",
   "metadata": {},
   "source": [
    "### And we can check that resulting PCAs are equivalent.\n"
   ]
  },
  {
   "cell_type": "code",
   "execution_count": 28,
   "metadata": {},
   "outputs": [
    {
     "name": "stdout",
     "output_type": "stream",
     "text": [
      "[3.23514762 1.25964828]\n",
      "Xproj2: [[-2.74282765 -0.42739619]\n",
      " [-1.24063553 -0.15275975]\n",
      " [-1.03089425  1.04928798]\n",
      " [ 3.13812885  0.18561802]]\n",
      "[3.2351476179596492, 1.2596482840056922, 0.004024788846949778, 0.0011793091877089143]\n",
      "Xproj: [[-11.24918736  -0.55971542]\n",
      " [-15.9504974    0.33494802]\n",
      " [-16.60272927   4.27842698]\n",
      " [-29.62396223   1.41801972]]\n"
     ]
    }
   ],
   "source": [
    "print(pca.explained_variance_)\n",
    "\n",
    "print('Xproj2:', Xproj2[:4,])\n",
    "\n",
    "ev = [cur_ev for cur_ev in sorted(eig_vals, reverse=True)]\n",
    "print(ev[:4])\n",
    "\n",
    "print('Xproj:', Xproj[:4,])"
   ]
  },
  {
   "cell_type": "code",
   "execution_count": 29,
   "metadata": {},
   "outputs": [
    {
     "data": {
      "image/png": "[encoded data removed]",
      "text/plain": [
       "<Figure size 432x288 with 1 Axes>"
      ]
     },
     "metadata": {
      "needs_background": "light"
     },
     "output_type": "display_data"
    }
   ],
   "source": [
    "plt.plot(Xproj2[:,0], Xproj2[:,1], 'bo')\n",
    "plt.xlabel('Axe 2')\n",
    "plt.ylabel('Axe 1')\n",
    "\n",
    "h=0;\n",
    "for x,y in zip(Xproj2[:,0],Xproj2[:,1]):\n",
    "        plt.annotate(names[h,0], (x,y), textcoords=\"offset points\",\n",
    "                 xytext=(0,10), # distance from text to points (x,y)\n",
    "                 ha='center') # horizontal alignment can be left, right or center\n",
    "        h = h+1\n",
    "plt.show()"
   ]
  },
  {
   "cell_type": "markdown",
   "metadata": {},
   "source": [
    "# Remarque \n",
    "\n",
    "We notice that the two methods using Xproj1 and Xproj2 lead to the same representation of the point cloud in Euclidean space at one sing.\n",
    "\n",
    "The negative sign is due to the fact that the projection along the axis can be represented by two opposite direction vectors of sign that implies a difference of sign between the two representations."
   ]
  },
  {
   "cell_type": "markdown",
   "metadata": {},
   "source": [
    "# Conclusion\n",
    "\n",
    "-The PCA is a fundamental method in multidimensional descriptive analysis which makes it possible to reduce the dimension (attributes) in order to be able to visualize the data.\n",
    "\n",
    "- On Python there are two methods to apply PCA\n",
    "\n",
    "The first method consists in applying step by step the mathematical laws which constitute the PCA algorithm\n",
    "\n",
    "The second method consists in using the library scikit-learn which allows to apply the ACP more quickly."
   ]
  }
 ],
 "metadata": {
  "kernelspec": {
   "display_name": "Python 3.9.4 64-bit",
   "language": "python",
   "name": "python3"
  },
  "language_info": {
   "codemirror_mode": {
    "name": "ipython",
    "version": 3
   },
   "file_extension": ".py",
   "mimetype": "text/x-python",
   "name": "python",
   "nbconvert_exporter": "python",
   "pygments_lexer": "ipython3",
   "version": "3.9.4"
  },
  "vscode": {
   "interpreter": {
    "hash": "2e52f28d137e14bd08d42b56e85df070efb682d62b603f2b228966f78553c64f"
   }
  }
 },
 "nbformat": 4,
 "nbformat_minor": 4
}
